{
 "cells": [
  {
   "cell_type": "markdown",
   "id": "bbe17c8e",
   "metadata": {},
   "source": [
    "Make sure you’ve installed the required libraries:\n",
    "\n",
    "\n",
    "pip install langdetect pycountry"
   ]
  },
  {
   "cell_type": "code",
   "execution_count": 3,
   "id": "28a017d3",
   "metadata": {},
   "outputs": [],
   "source": [
    "from langdetect import detect"
   ]
  },
  {
   "cell_type": "code",
   "execution_count": 5,
   "id": "1ed9a7cc",
   "metadata": {},
   "outputs": [
    {
     "name": "stdout",
     "output_type": "stream",
     "text": [
      "ta\n"
     ]
    }
   ],
   "source": [
    "text = input(\"Enter any text in any language:\")\n",
    "print(detect(text))"
   ]
  },
  {
   "cell_type": "code",
   "execution_count": null,
   "id": "d0f21621",
   "metadata": {},
   "outputs": [
    {
     "name": "stdout",
     "output_type": "stream",
     "text": [
      "Tamil\n"
     ]
    }
   ],
   "source": [
    "from langdetect import detect\n",
    "import pycountry\n",
    "\n",
    "text = \"வணக்கம்! இது ஒரு தமிழ் வாக்கியம்.\"\n",
    "code = detect(text)\n",
    "try:\n",
    "    lang = pycountry.languages.get(alpha_2=code).name\n",
    "except:\n",
    "    lang = code \n",
    "print(lang)"
   ]
  },
  {
   "cell_type": "code",
   "execution_count": null,
   "id": "12753b10",
   "metadata": {},
   "outputs": [
    {
     "name": "stdout",
     "output_type": "stream",
     "text": [
      "ta    → Tamil           : வணக்கம்! இது ஒரு தமிழ் வாக்கியம். மொழி கண்டறிதல் நூலகத்தை சோ…\n",
      "en    → English         : Hello! This is an English sentence to test the language dete…\n",
      "es    → Spanish         : ¡Hola! Esta es una oración en español para probar la bibliot…\n",
      "de    → German          : Hallo! Dies ist ein deutscher Satz, um die Spracherkennungsb…\n",
      "fr    → French          : Bonjour ! Ceci est une phrase en français pour tester la bib…\n",
      "it    → Italian         : Ciao! Questa è una frase in italiano per testare la libreria…\n",
      "pt    → Portuguese      : Olá! Esta é uma frase em português para testar a biblioteca …\n",
      "ru    → Russian         : Привет! Это предложение на русском языке для проверки библио…\n",
      "zh-cn → Chinese         : 你好！这是一个用于测试语言检测库的中文句子。…\n",
      "ja    → Japanese        : こんにちは！これは言語検出ライブラリをテストするための日本語の文です。…\n",
      "ko    → Korean          : 안녕하세요! 이것은 언어 감지 라이브러리를 테스트하기 위한 한국어 문장입니다.…\n",
      "ar    → Arabic          : مرحبًا! هذه جملة باللغة العربية لاختبار مكتبة اكتشاف اللغة.…\n",
      "hi    → Hindi           : नमस्ते! यह भाषा पहचान पुस्तकालय का परीक्षण करने के लिए हिंदी…\n",
      "bn    → Bengali         : হ্যালো! এটি ভাষা শনাক্তকরণ লাইব্রেরি পরীক্ষা করার জন্য বাংলা…\n",
      "tr    → Turkish         : Merhaba! Bu, dil algılama kitaplığını test etmek için Türkçe…\n",
      "nl    → Dutch           : Hallo! Dit is een Nederlandse zin om de taalherkenningsbibli…\n",
      "sv    → Swedish         : Hej! Detta är en svensk mening för att testa språkdetekterin…\n",
      "pl    → Polish          : Cześć! To jest zdanie w języku polskim do przetestowania bib…\n",
      "vi    → Vietnamese      : Xin chào! Đây là một câu tiếng Việt để kiểm tra thư viện phá…\n",
      "th    → Thai            : สวัสดี! นี่คือประโยคภาษาไทยสำหรับทดสอบไลบรารีตรวจจับภาษา…\n",
      "id    → Indonesian      : Halo! Ini adalah kalimat dalam bahasa Indonesia untuk menguj…\n"
     ]
    }
   ],
   "source": [
    "from langdetect import detect\n",
    "import pycountry\n",
    "\n",
    "#List of sample sentences in 21 different languages\n",
    "samples = [\n",
    "    #Tamil\n",
    "    \"வணக்கம்! இது ஒரு தமிழ் வாக்கியம். மொழி கண்டறிதல் நூலகத்தை சோதிக்க உதவும்.\",\n",
    "    #English\n",
    "    \"Hello! This is an English sentence to test the language detection library.\",\n",
    "    #Spanish\n",
    "    \"¡Hola! Esta es una oración en español para probar la biblioteca de detección de idioma.\",\n",
    "    #German\n",
    "    \"Hallo! Dies ist ein deutscher Satz, um die Spracherkennungsbibliothek zu testen.\",\n",
    "    #French\n",
    "    \"Bonjour ! Ceci est une phrase en français pour tester la bibliothèque de détection de langue.\",\n",
    "    #Italian\n",
    "    \"Ciao! Questa è una frase in italiano per testare la libreria di rilevamento della lingua.\",\n",
    "    #Portuguese\n",
    "    \"Olá! Esta é uma frase em português para testar a biblioteca de detecção de idioma.\",\n",
    "    #Russian\n",
    "    \"Привет! Это предложение на русском языке для проверки библиотеки распознавания языка.\",\n",
    "    #Chinese (Simplified)\n",
    "    \"你好！这是一个用于测试语言检测库的中文句子。\",\n",
    "    #Japanese\n",
    "    \"こんにちは！これは言語検出ライブラリをテストするための日本語の文です。\",\n",
    "    #Korean\n",
    "    \"안녕하세요! 이것은 언어 감지 라이브러리를 테스트하기 위한 한국어 문장입니다.\",\n",
    "    #Arabic\n",
    "    \"مرحبًا! هذه جملة باللغة العربية لاختبار مكتبة اكتشاف اللغة.\",\n",
    "    #Hindi\n",
    "    \"नमस्ते! यह भाषा पहचान पुस्तकालय का परीक्षण करने के लिए हिंदी में एक वाक्य है।\",\n",
    "    #Bengali\n",
    "    \"হ্যালো! এটি ভাষা শনাক্তকরণ লাইব্রেরি পরীক্ষা করার জন্য বাংলা বাক্য।\",\n",
    "    #Turkish\n",
    "    \"Merhaba! Bu, dil algılama kitaplığını test etmek için Türkçe bir cümledir.\",\n",
    "    #Dutch\n",
    "    \"Hallo! Dit is een Nederlandse zin om de taalherkenningsbibliotheek te testen.\",\n",
    "    #Swedish\n",
    "    \"Hej! Detta är en svensk mening för att testa språkdetekteringsbiblioteket.\",\n",
    "    #Polish\n",
    "    \"Cześć! To jest zdanie w języku polskim do przetestowania biblioteki wykrywania języka.\",\n",
    "    #Vietnamese\n",
    "    \"Xin chào! Đây là một câu tiếng Việt để kiểm tra thư viện phát hiện ngôn ngữ.\",\n",
    "    #Thai\n",
    "    \"สวัสดี! นี่คือประโยคภาษาไทยสำหรับทดสอบไลบรารีตรวจจับภาษา\",\n",
    "    #Indonesian\n",
    "    \"Halo! Ini adalah kalimat dalam bahasa Indonesia untuk menguji pustaka deteksi bahasa.\"\n",
    "]\n",
    "\n",
    "def detect_full_name(text: str) -> str:\n",
    "    \"\"\"\n",
    "    Detects the language code of `text` using langdetect,\n",
    "    strips any region suffix, and returns the full language name via pycountry.\n",
    "    In langdetect sometimes returns a locale code (e.g. “zh-cn” or “pt-br”), but pycountry only knows the base ISO 639-1 codes (“zh”, “pt”, etc.)\n",
    "    so in base we make the split and choose the first split using 0 position.\n",
    "    \"\"\"\n",
    "    code = detect(text)\n",
    "    base = code.split('-', 1)[0]\n",
    "    lang = pycountry.languages.get(alpha_2=base)\n",
    "    return lang.name if lang else code\n",
    "\n",
    "#Run detection and print results\n",
    "for sentence in samples:\n",
    "    code = detect(sentence)\n",
    "    full = detect_full_name(sentence)\n",
    "    print(f\"{code:5} → {full:15} : {sentence[:60]}…\")\n"
   ]
  },
  {
   "cell_type": "code",
   "execution_count": null,
   "id": "b3604187",
   "metadata": {},
   "outputs": [],
   "source": []
  }
 ],
 "metadata": {
  "kernelspec": {
   "display_name": "Python 3",
   "language": "python",
   "name": "python3"
  },
  "language_info": {
   "codemirror_mode": {
    "name": "ipython",
    "version": 3
   },
   "file_extension": ".py",
   "mimetype": "text/x-python",
   "name": "python",
   "nbconvert_exporter": "python",
   "pygments_lexer": "ipython3",
   "version": "3.13.3"
  }
 },
 "nbformat": 4,
 "nbformat_minor": 5
}
